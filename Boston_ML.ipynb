{
 "cells": [
  {
   "cell_type": "markdown",
   "metadata": {},
   "source": [
    "In this notebook, we will do data processing and implement various machine learning algorithms to predict prices."
   ]
  },
  {
   "cell_type": "code",
   "execution_count": 1,
   "metadata": {},
   "outputs": [],
   "source": [
    "%matplotlib inline"
   ]
  },
  {
   "cell_type": "code",
   "execution_count": 2,
   "metadata": {},
   "outputs": [],
   "source": [
    "import pandas as pd\n",
    "import numpy as np\n",
    "import seaborn as sns\n",
    "import plotly.graph_objects as go\n",
    "from plotly.offline import init_notebook_mode, iplot\n",
    "import matplotlib.pyplot as plt\n",
    "\n",
    "import warnings\n",
    "warnings.filterwarnings(\"ignore\")\n",
    "\n",
    "from sklearn.model_selection import train_test_split\n",
    "from sklearn.metrics import r2_score,mean_squared_error\n",
    "from sklearn.neighbors import KNeighborsRegressor\n",
    "from sklearn.linear_model import LinearRegression\n",
    "from sklearn.linear_model import Lasso,LassoCV\n",
    "from sklearn.model_selection import GridSearchCV\n",
    "from sklearn.linear_model import Ridge, RidgeCV\n",
    "from sklearn.tree import DecisionTreeRegressor\n",
    "from sklearn.ensemble import RandomForestRegressor\n",
    "from xgboost import XGBRegressor"
   ]
  },
  {
   "cell_type": "code",
   "execution_count": 3,
   "metadata": {},
   "outputs": [],
   "source": [
    "#We will be using this class for data preprocessing\n",
    "class Data_Handle:\n",
    "    def __init__(self,df):\n",
    "        super(Data_Handle,self).__init__()\n",
    "        self.df = df\n",
    "        \n",
    "    def remove_columns(self,df,drop_cols):\n",
    "        self.df = df.drop(drop_cols,axis=1)\n",
    "        return self.df\n",
    "    \n",
    "    def print_top_x_missing_percent_cols(self,df,top_x):\n",
    "        null_df = df.isnull().sum().sort_values(ascending=False)\n",
    "        percent = (df.isnull().sum()/df.isnull().count()).sort_values(ascending=False)\n",
    "        missing_data = pd.concat([null_df, percent], axis=1, keys=['Total', 'Percent'])\n",
    "        print(missing_data.head(top_x))\n",
    "        return\n",
    "    \n",
    "    def extract_numeric(self,df,columns):\n",
    "        remove_commas = lambda x:''.join(str(x).split(','))\n",
    "        for col in columns:\n",
    "            self.df[col] = df[col].apply(remove_commas).str.extract(r'(\\d+)').astype(float)\n",
    "        return self.df\n",
    "    \n",
    "    def convert_to_binary(self,df,columns):\n",
    "        for col in columns:\n",
    "            self.df[col] = df[col].apply(lambda x: 1 if str(x)=='t' else 0 )\n",
    "        return self.df\n",
    "    \n",
    "    def fill_missing_col(self,df,columns,method):\n",
    "        for col in columns:\n",
    "            if method=='mode':\n",
    "                self.df[col] = df[col].fillna(df[col].mode()[0])\n",
    "            elif method=='median':\n",
    "                self.df[col] = df[col].fillna(df[col].median()[0])\n",
    "            elif method=='mean':\n",
    "                self.df[col] = df[col].fillna(df[col].mean())\n",
    "        \n",
    "        return self.df\n",
    "    \n",
    "    def convert_to_category(self,df,columns):\n",
    "        for col in columns:\n",
    "            df = pd.concat([df.drop(col,axis=1),pd.get_dummies(df[col],drop_first=False)],axis=1)\n",
    "        self.df = df.copy()\n",
    "        return self.df\n",
    "    \n",
    "    def list_feature_to_count(self,df,column_name,new_column_name):\n",
    "        count_items_in_list = lambda x : len(x.split(',')) \n",
    "        self.df[new_column_name] = df[column_name].apply(count_items_in_list)\n",
    "        self.df = df.drop(columns=[column_name])\n",
    "        return self.df\n",
    "            \n",
    "    \n",
    "    def remove_rows_missing_col(self,df,columns):\n",
    "        for col in columns:\n",
    "            self.df = df.dropna(col)\n",
    "        return self.df"
   ]
  },
  {
   "cell_type": "code",
   "execution_count": 4,
   "metadata": {},
   "outputs": [],
   "source": [
    "#Reading the csv file\n",
    "df_list = pd.read_csv('listings.csv')"
   ]
  },
  {
   "cell_type": "code",
   "execution_count": 5,
   "metadata": {},
   "outputs": [],
   "source": [
    "data = Data_Handle(df_list) #create of object of the class"
   ]
  },
  {
   "cell_type": "code",
   "execution_count": 6,
   "metadata": {},
   "outputs": [
    {
     "data": {
      "text/html": [
       "<div>\n",
       "<style scoped>\n",
       "    .dataframe tbody tr th:only-of-type {\n",
       "        vertical-align: middle;\n",
       "    }\n",
       "\n",
       "    .dataframe tbody tr th {\n",
       "        vertical-align: top;\n",
       "    }\n",
       "\n",
       "    .dataframe thead th {\n",
       "        text-align: right;\n",
       "    }\n",
       "</style>\n",
       "<table border=\"1\" class=\"dataframe\">\n",
       "  <thead>\n",
       "    <tr style=\"text-align: right;\">\n",
       "      <th></th>\n",
       "      <th>id</th>\n",
       "      <th>listing_url</th>\n",
       "      <th>scrape_id</th>\n",
       "      <th>last_scraped</th>\n",
       "      <th>name</th>\n",
       "      <th>summary</th>\n",
       "      <th>space</th>\n",
       "      <th>description</th>\n",
       "      <th>experiences_offered</th>\n",
       "      <th>neighborhood_overview</th>\n",
       "      <th>...</th>\n",
       "      <th>review_scores_value</th>\n",
       "      <th>requires_license</th>\n",
       "      <th>license</th>\n",
       "      <th>jurisdiction_names</th>\n",
       "      <th>instant_bookable</th>\n",
       "      <th>cancellation_policy</th>\n",
       "      <th>require_guest_profile_picture</th>\n",
       "      <th>require_guest_phone_verification</th>\n",
       "      <th>calculated_host_listings_count</th>\n",
       "      <th>reviews_per_month</th>\n",
       "    </tr>\n",
       "  </thead>\n",
       "  <tbody>\n",
       "    <tr>\n",
       "      <th>0</th>\n",
       "      <td>12147973</td>\n",
       "      <td>https://www.airbnb.com/rooms/12147973</td>\n",
       "      <td>20160906204935</td>\n",
       "      <td>2016-09-07</td>\n",
       "      <td>Sunny Bungalow in the City</td>\n",
       "      <td>Cozy, sunny, family home.  Master bedroom high...</td>\n",
       "      <td>The house has an open and cozy feel at the sam...</td>\n",
       "      <td>Cozy, sunny, family home.  Master bedroom high...</td>\n",
       "      <td>none</td>\n",
       "      <td>Roslindale is quiet, convenient and friendly. ...</td>\n",
       "      <td>...</td>\n",
       "      <td>NaN</td>\n",
       "      <td>f</td>\n",
       "      <td>NaN</td>\n",
       "      <td>NaN</td>\n",
       "      <td>f</td>\n",
       "      <td>moderate</td>\n",
       "      <td>f</td>\n",
       "      <td>f</td>\n",
       "      <td>1</td>\n",
       "      <td>NaN</td>\n",
       "    </tr>\n",
       "    <tr>\n",
       "      <th>1</th>\n",
       "      <td>3075044</td>\n",
       "      <td>https://www.airbnb.com/rooms/3075044</td>\n",
       "      <td>20160906204935</td>\n",
       "      <td>2016-09-07</td>\n",
       "      <td>Charming room in pet friendly apt</td>\n",
       "      <td>Charming and quiet room in a second floor 1910...</td>\n",
       "      <td>Small but cozy and quite room with a full size...</td>\n",
       "      <td>Charming and quiet room in a second floor 1910...</td>\n",
       "      <td>none</td>\n",
       "      <td>The room is in Roslindale, a diverse and prima...</td>\n",
       "      <td>...</td>\n",
       "      <td>9.0</td>\n",
       "      <td>f</td>\n",
       "      <td>NaN</td>\n",
       "      <td>NaN</td>\n",
       "      <td>t</td>\n",
       "      <td>moderate</td>\n",
       "      <td>f</td>\n",
       "      <td>f</td>\n",
       "      <td>1</td>\n",
       "      <td>1.30</td>\n",
       "    </tr>\n",
       "    <tr>\n",
       "      <th>2</th>\n",
       "      <td>6976</td>\n",
       "      <td>https://www.airbnb.com/rooms/6976</td>\n",
       "      <td>20160906204935</td>\n",
       "      <td>2016-09-07</td>\n",
       "      <td>Mexican Folk Art Haven in Boston</td>\n",
       "      <td>Come stay with a friendly, middle-aged guy in ...</td>\n",
       "      <td>Come stay with a friendly, middle-aged guy in ...</td>\n",
       "      <td>Come stay with a friendly, middle-aged guy in ...</td>\n",
       "      <td>none</td>\n",
       "      <td>The LOCATION: Roslindale is a safe and diverse...</td>\n",
       "      <td>...</td>\n",
       "      <td>10.0</td>\n",
       "      <td>f</td>\n",
       "      <td>NaN</td>\n",
       "      <td>NaN</td>\n",
       "      <td>f</td>\n",
       "      <td>moderate</td>\n",
       "      <td>t</td>\n",
       "      <td>f</td>\n",
       "      <td>1</td>\n",
       "      <td>0.47</td>\n",
       "    </tr>\n",
       "    <tr>\n",
       "      <th>3</th>\n",
       "      <td>1436513</td>\n",
       "      <td>https://www.airbnb.com/rooms/1436513</td>\n",
       "      <td>20160906204935</td>\n",
       "      <td>2016-09-07</td>\n",
       "      <td>Spacious Sunny Bedroom Suite in Historic Home</td>\n",
       "      <td>Come experience the comforts of home away from...</td>\n",
       "      <td>Most places you find in Boston are small howev...</td>\n",
       "      <td>Come experience the comforts of home away from...</td>\n",
       "      <td>none</td>\n",
       "      <td>Roslindale is a lovely little neighborhood loc...</td>\n",
       "      <td>...</td>\n",
       "      <td>10.0</td>\n",
       "      <td>f</td>\n",
       "      <td>NaN</td>\n",
       "      <td>NaN</td>\n",
       "      <td>f</td>\n",
       "      <td>moderate</td>\n",
       "      <td>f</td>\n",
       "      <td>f</td>\n",
       "      <td>1</td>\n",
       "      <td>1.00</td>\n",
       "    </tr>\n",
       "    <tr>\n",
       "      <th>4</th>\n",
       "      <td>7651065</td>\n",
       "      <td>https://www.airbnb.com/rooms/7651065</td>\n",
       "      <td>20160906204935</td>\n",
       "      <td>2016-09-07</td>\n",
       "      <td>Come Home to Boston</td>\n",
       "      <td>My comfy, clean and relaxing home is one block...</td>\n",
       "      <td>Clean, attractive, private room, one block fro...</td>\n",
       "      <td>My comfy, clean and relaxing home is one block...</td>\n",
       "      <td>none</td>\n",
       "      <td>I love the proximity to downtown, the neighbor...</td>\n",
       "      <td>...</td>\n",
       "      <td>10.0</td>\n",
       "      <td>f</td>\n",
       "      <td>NaN</td>\n",
       "      <td>NaN</td>\n",
       "      <td>f</td>\n",
       "      <td>flexible</td>\n",
       "      <td>f</td>\n",
       "      <td>f</td>\n",
       "      <td>1</td>\n",
       "      <td>2.25</td>\n",
       "    </tr>\n",
       "  </tbody>\n",
       "</table>\n",
       "<p>5 rows × 95 columns</p>\n",
       "</div>"
      ],
      "text/plain": [
       "         id                            listing_url       scrape_id  \\\n",
       "0  12147973  https://www.airbnb.com/rooms/12147973  20160906204935   \n",
       "1   3075044   https://www.airbnb.com/rooms/3075044  20160906204935   \n",
       "2      6976      https://www.airbnb.com/rooms/6976  20160906204935   \n",
       "3   1436513   https://www.airbnb.com/rooms/1436513  20160906204935   \n",
       "4   7651065   https://www.airbnb.com/rooms/7651065  20160906204935   \n",
       "\n",
       "  last_scraped                                           name  \\\n",
       "0   2016-09-07                     Sunny Bungalow in the City   \n",
       "1   2016-09-07              Charming room in pet friendly apt   \n",
       "2   2016-09-07               Mexican Folk Art Haven in Boston   \n",
       "3   2016-09-07  Spacious Sunny Bedroom Suite in Historic Home   \n",
       "4   2016-09-07                            Come Home to Boston   \n",
       "\n",
       "                                             summary  \\\n",
       "0  Cozy, sunny, family home.  Master bedroom high...   \n",
       "1  Charming and quiet room in a second floor 1910...   \n",
       "2  Come stay with a friendly, middle-aged guy in ...   \n",
       "3  Come experience the comforts of home away from...   \n",
       "4  My comfy, clean and relaxing home is one block...   \n",
       "\n",
       "                                               space  \\\n",
       "0  The house has an open and cozy feel at the sam...   \n",
       "1  Small but cozy and quite room with a full size...   \n",
       "2  Come stay with a friendly, middle-aged guy in ...   \n",
       "3  Most places you find in Boston are small howev...   \n",
       "4  Clean, attractive, private room, one block fro...   \n",
       "\n",
       "                                         description experiences_offered  \\\n",
       "0  Cozy, sunny, family home.  Master bedroom high...                none   \n",
       "1  Charming and quiet room in a second floor 1910...                none   \n",
       "2  Come stay with a friendly, middle-aged guy in ...                none   \n",
       "3  Come experience the comforts of home away from...                none   \n",
       "4  My comfy, clean and relaxing home is one block...                none   \n",
       "\n",
       "                               neighborhood_overview  ... review_scores_value  \\\n",
       "0  Roslindale is quiet, convenient and friendly. ...  ...                 NaN   \n",
       "1  The room is in Roslindale, a diverse and prima...  ...                 9.0   \n",
       "2  The LOCATION: Roslindale is a safe and diverse...  ...                10.0   \n",
       "3  Roslindale is a lovely little neighborhood loc...  ...                10.0   \n",
       "4  I love the proximity to downtown, the neighbor...  ...                10.0   \n",
       "\n",
       "  requires_license license jurisdiction_names instant_bookable  \\\n",
       "0                f     NaN                NaN                f   \n",
       "1                f     NaN                NaN                t   \n",
       "2                f     NaN                NaN                f   \n",
       "3                f     NaN                NaN                f   \n",
       "4                f     NaN                NaN                f   \n",
       "\n",
       "  cancellation_policy require_guest_profile_picture  \\\n",
       "0            moderate                             f   \n",
       "1            moderate                             f   \n",
       "2            moderate                             t   \n",
       "3            moderate                             f   \n",
       "4            flexible                             f   \n",
       "\n",
       "  require_guest_phone_verification calculated_host_listings_count  \\\n",
       "0                                f                              1   \n",
       "1                                f                              1   \n",
       "2                                f                              1   \n",
       "3                                f                              1   \n",
       "4                                f                              1   \n",
       "\n",
       "   reviews_per_month  \n",
       "0                NaN  \n",
       "1               1.30  \n",
       "2               0.47  \n",
       "3               1.00  \n",
       "4               2.25  \n",
       "\n",
       "[5 rows x 95 columns]"
      ]
     },
     "execution_count": 6,
     "metadata": {},
     "output_type": "execute_result"
    }
   ],
   "source": [
    "df_list.head()"
   ]
  },
  {
   "cell_type": "code",
   "execution_count": 7,
   "metadata": {},
   "outputs": [
    {
     "data": {
      "text/plain": [
       "Index(['id', 'listing_url', 'scrape_id', 'last_scraped', 'name', 'summary',\n",
       "       'space', 'description', 'experiences_offered', 'neighborhood_overview',\n",
       "       'notes', 'transit', 'access', 'interaction', 'house_rules',\n",
       "       'thumbnail_url', 'medium_url', 'picture_url', 'xl_picture_url',\n",
       "       'host_id', 'host_url', 'host_name', 'host_since', 'host_location',\n",
       "       'host_about', 'host_response_time', 'host_response_rate',\n",
       "       'host_acceptance_rate', 'host_is_superhost', 'host_thumbnail_url',\n",
       "       'host_picture_url', 'host_neighbourhood', 'host_listings_count',\n",
       "       'host_total_listings_count', 'host_verifications',\n",
       "       'host_has_profile_pic', 'host_identity_verified', 'street',\n",
       "       'neighbourhood', 'neighbourhood_cleansed',\n",
       "       'neighbourhood_group_cleansed', 'city', 'state', 'zipcode', 'market',\n",
       "       'smart_location', 'country_code', 'country', 'latitude', 'longitude',\n",
       "       'is_location_exact', 'property_type', 'room_type', 'accommodates',\n",
       "       'bathrooms', 'bedrooms', 'beds', 'bed_type', 'amenities', 'square_feet',\n",
       "       'price', 'weekly_price', 'monthly_price', 'security_deposit',\n",
       "       'cleaning_fee', 'guests_included', 'extra_people', 'minimum_nights',\n",
       "       'maximum_nights', 'calendar_updated', 'has_availability',\n",
       "       'availability_30', 'availability_60', 'availability_90',\n",
       "       'availability_365', 'calendar_last_scraped', 'number_of_reviews',\n",
       "       'first_review', 'last_review', 'review_scores_rating',\n",
       "       'review_scores_accuracy', 'review_scores_cleanliness',\n",
       "       'review_scores_checkin', 'review_scores_communication',\n",
       "       'review_scores_location', 'review_scores_value', 'requires_license',\n",
       "       'license', 'jurisdiction_names', 'instant_bookable',\n",
       "       'cancellation_policy', 'require_guest_profile_picture',\n",
       "       'require_guest_phone_verification', 'calculated_host_listings_count',\n",
       "       'reviews_per_month'],\n",
       "      dtype='object')"
      ]
     },
     "execution_count": 7,
     "metadata": {},
     "output_type": "execute_result"
    }
   ],
   "source": [
    "df_list.columns"
   ]
  },
  {
   "cell_type": "code",
   "execution_count": 8,
   "metadata": {},
   "outputs": [
    {
     "data": {
      "text/plain": [
       "id                                    int64\n",
       "listing_url                          object\n",
       "scrape_id                             int64\n",
       "last_scraped                         object\n",
       "name                                 object\n",
       "                                     ...   \n",
       "cancellation_policy                  object\n",
       "require_guest_profile_picture        object\n",
       "require_guest_phone_verification     object\n",
       "calculated_host_listings_count        int64\n",
       "reviews_per_month                   float64\n",
       "Length: 95, dtype: object"
      ]
     },
     "execution_count": 8,
     "metadata": {},
     "output_type": "execute_result"
    }
   ],
   "source": [
    "df_list.dtypes"
   ]
  },
  {
   "cell_type": "code",
   "execution_count": 9,
   "metadata": {},
   "outputs": [
    {
     "data": {
      "text/plain": [
       "id                                    int64\n",
       "listing_url                          object\n",
       "scrape_id                             int64\n",
       "last_scraped                         object\n",
       "name                                 object\n",
       "                                     ...   \n",
       "cancellation_policy                  object\n",
       "require_guest_profile_picture        object\n",
       "require_guest_phone_verification     object\n",
       "calculated_host_listings_count        int64\n",
       "reviews_per_month                   float64\n",
       "Length: 95, dtype: object"
      ]
     },
     "execution_count": 9,
     "metadata": {},
     "output_type": "execute_result"
    }
   ],
   "source": [
    "#First we will fix numeric columns to be of int or float type\n",
    "numeric_cols = ['extra_people','host_response_rate','host_acceptance_rate','price','monthly_price','weekly_price','security_deposit','cleaning_fee']\n",
    "df_list = data.extract_numeric(df_list,numeric_cols)\n",
    "df_list.dtypes"
   ]
  },
  {
   "cell_type": "code",
   "execution_count": 10,
   "metadata": {},
   "outputs": [
    {
     "name": "stdout",
     "output_type": "stream",
     "text": [
      "                              Total   Percent\n",
      "neighbourhood_group_cleansed   3585  1.000000\n",
      "jurisdiction_names             3585  1.000000\n",
      "license                        3585  1.000000\n",
      "has_availability               3585  1.000000\n",
      "square_feet                    3529  0.984379\n",
      "monthly_price                  2697  0.752301\n",
      "weekly_price                   2693  0.751185\n",
      "security_deposit               2243  0.625662\n",
      "notes                          1975  0.550907\n",
      "interaction                    1554  0.433473\n",
      "access                         1489  0.415342\n",
      "neighborhood_overview          1415  0.394700\n",
      "host_about                     1309  0.365132\n",
      "transit                        1290  0.359833\n",
      "house_rules                    1192  0.332497\n",
      "cleaning_fee                   1107  0.308787\n",
      "space                          1057  0.294840\n",
      "review_scores_accuracy          823  0.229568\n",
      "review_scores_location          822  0.229289\n",
      "review_scores_value             821  0.229010\n",
      "review_scores_checkin           820  0.228731\n",
      "review_scores_cleanliness       818  0.228173\n",
      "review_scores_communication     818  0.228173\n",
      "review_scores_rating            813  0.226778\n",
      "reviews_per_month               756  0.210879\n",
      "first_review                    756  0.210879\n",
      "last_review                     756  0.210879\n",
      "thumbnail_url                   599  0.167085\n",
      "medium_url                      599  0.167085\n",
      "xl_picture_url                  599  0.167085\n",
      "neighbourhood                   543  0.151464\n",
      "host_response_time              471  0.131381\n",
      "host_acceptance_rate            471  0.131381\n",
      "host_response_rate              471  0.131381\n",
      "host_neighbourhood              339  0.094561\n",
      "summary                         143  0.039888\n",
      "zipcode                          38  0.010600\n",
      "market                           14  0.003905\n",
      "bathrooms                        14  0.003905\n",
      "host_location                    11  0.003068\n",
      "bedrooms                         10  0.002789\n",
      "beds                              9  0.002510\n",
      "property_type                     3  0.000837\n",
      "city                              2  0.000558\n",
      "experiences_offered               0  0.000000\n",
      "host_is_superhost                 0  0.000000\n",
      "host_thumbnail_url                0  0.000000\n",
      "host_picture_url                  0  0.000000\n",
      "listing_url                       0  0.000000\n",
      "host_name                         0  0.000000\n",
      "scrape_id                         0  0.000000\n",
      "host_since                        0  0.000000\n",
      "description                       0  0.000000\n",
      "host_url                          0  0.000000\n",
      "host_id                           0  0.000000\n",
      "last_scraped                      0  0.000000\n",
      "picture_url                       0  0.000000\n",
      "name                              0  0.000000\n",
      "host_total_listings_count         0  0.000000\n",
      "host_listings_count               0  0.000000\n"
     ]
    }
   ],
   "source": [
    "# this function prints percent of missing values of top m columns\n",
    "data.print_top_x_missing_percent_cols(df_list,60)"
   ]
  },
  {
   "cell_type": "code",
   "execution_count": 11,
   "metadata": {},
   "outputs": [],
   "source": [
    "# We will drop columns that have more than 30% data missing, columns \n",
    "# that have textual content like reviews, urls etc.\n",
    "# drop columns\n",
    "drop_cols=['listing_url','scrape_id','jurisdiction_names','license','thumbnail_url','medium_url',\n",
    "           'picture_url','xl_picture_url','host_thumbnail_url','host_picture_url','state','has_availability',\n",
    "           'neighbourhood_group_cleansed','notes','smart_location','country','country_code',\n",
    "           'transit','latitude','longitude','last_scraped','access','interaction','neighborhood_overview',\n",
    "           'host_about','house_rules','space','square_feet','last_review','first_review','host_id','host_url',\n",
    "           'calendar_last_scraped','experiences_offered','id','monthly_price','weekly_price',\n",
    "            'security_deposit']"
   ]
  },
  {
   "cell_type": "code",
   "execution_count": 12,
   "metadata": {},
   "outputs": [
    {
     "name": "stdout",
     "output_type": "stream",
     "text": [
      "                                  Total   Percent\n",
      "cleaning_fee                       1107  0.308787\n",
      "review_scores_accuracy              823  0.229568\n",
      "review_scores_location              822  0.229289\n",
      "review_scores_value                 821  0.229010\n",
      "review_scores_checkin               820  0.228731\n",
      "review_scores_cleanliness           818  0.228173\n",
      "review_scores_communication         818  0.228173\n",
      "review_scores_rating                813  0.226778\n",
      "reviews_per_month                   756  0.210879\n",
      "neighbourhood                       543  0.151464\n",
      "host_acceptance_rate                471  0.131381\n",
      "host_response_rate                  471  0.131381\n",
      "host_response_time                  471  0.131381\n",
      "host_neighbourhood                  339  0.094561\n",
      "summary                             143  0.039888\n",
      "zipcode                              38  0.010600\n",
      "market                               14  0.003905\n",
      "bathrooms                            14  0.003905\n",
      "host_location                        11  0.003068\n",
      "bedrooms                             10  0.002789\n",
      "beds                                  9  0.002510\n",
      "property_type                         3  0.000837\n",
      "city                                  2  0.000558\n",
      "minimum_nights                        0  0.000000\n",
      "host_is_superhost                     0  0.000000\n",
      "host_has_profile_pic                  0  0.000000\n",
      "host_verifications                    0  0.000000\n",
      "host_total_listings_count             0  0.000000\n",
      "host_listings_count                   0  0.000000\n",
      "number_of_reviews                     0  0.000000\n",
      "requires_license                      0  0.000000\n",
      "street                                0  0.000000\n",
      "instant_bookable                      0  0.000000\n",
      "cancellation_policy                   0  0.000000\n",
      "require_guest_profile_picture         0  0.000000\n",
      "host_since                            0  0.000000\n",
      "host_name                             0  0.000000\n",
      "description                           0  0.000000\n",
      "require_guest_phone_verification      0  0.000000\n",
      "host_identity_verified                0  0.000000\n",
      "availability_365                      0  0.000000\n",
      "extra_people                          0  0.000000\n",
      "neighbourhood_cleansed                0  0.000000\n",
      "availability_90                       0  0.000000\n",
      "availability_60                       0  0.000000\n",
      "is_location_exact                     0  0.000000\n",
      "room_type                             0  0.000000\n",
      "accommodates                          0  0.000000\n",
      "availability_30                       0  0.000000\n",
      "calendar_updated                      0  0.000000\n",
      "calculated_host_listings_count        0  0.000000\n",
      "bed_type                              0  0.000000\n",
      "amenities                             0  0.000000\n",
      "price                                 0  0.000000\n",
      "maximum_nights                        0  0.000000\n",
      "guests_included                       0  0.000000\n",
      "name                                  0  0.000000\n"
     ]
    }
   ],
   "source": [
    "df_list = data.remove_columns(df_list,drop_cols)\n",
    "data.print_top_x_missing_percent_cols(df_list,60)"
   ]
  },
  {
   "cell_type": "markdown",
   "metadata": {},
   "source": [
    "Some columns need to be converted to binary(0-1) as they hold either t(true) or f(false)"
   ]
  },
  {
   "cell_type": "code",
   "execution_count": 13,
   "metadata": {},
   "outputs": [],
   "source": [
    "#convert to binary columns\n",
    "boolean_cols = ['host_is_superhost','host_has_profile_pic','host_identity_verified','is_location_exact',\n",
    "                'requires_license','instant_bookable','require_guest_profile_picture',\n",
    "                'require_guest_phone_verification']"
   ]
  },
  {
   "cell_type": "code",
   "execution_count": 14,
   "metadata": {},
   "outputs": [
    {
     "name": "stdout",
     "output_type": "stream",
     "text": [
      "                                  Total   Percent\n",
      "cleaning_fee                       1107  0.308787\n",
      "review_scores_accuracy              823  0.229568\n",
      "review_scores_location              822  0.229289\n",
      "review_scores_value                 821  0.229010\n",
      "review_scores_checkin               820  0.228731\n",
      "review_scores_cleanliness           818  0.228173\n",
      "review_scores_communication         818  0.228173\n",
      "review_scores_rating                813  0.226778\n",
      "reviews_per_month                   756  0.210879\n",
      "neighbourhood                       543  0.151464\n",
      "host_acceptance_rate                471  0.131381\n",
      "host_response_rate                  471  0.131381\n",
      "host_response_time                  471  0.131381\n",
      "host_neighbourhood                  339  0.094561\n",
      "summary                             143  0.039888\n",
      "zipcode                              38  0.010600\n",
      "market                               14  0.003905\n",
      "bathrooms                            14  0.003905\n",
      "host_location                        11  0.003068\n",
      "bedrooms                             10  0.002789\n",
      "beds                                  9  0.002510\n",
      "property_type                         3  0.000837\n",
      "city                                  2  0.000558\n",
      "minimum_nights                        0  0.000000\n",
      "host_is_superhost                     0  0.000000\n",
      "host_has_profile_pic                  0  0.000000\n",
      "host_verifications                    0  0.000000\n",
      "host_total_listings_count             0  0.000000\n",
      "host_listings_count                   0  0.000000\n",
      "number_of_reviews                     0  0.000000\n",
      "requires_license                      0  0.000000\n",
      "street                                0  0.000000\n",
      "instant_bookable                      0  0.000000\n",
      "cancellation_policy                   0  0.000000\n",
      "require_guest_profile_picture         0  0.000000\n",
      "host_since                            0  0.000000\n",
      "host_name                             0  0.000000\n",
      "description                           0  0.000000\n",
      "require_guest_phone_verification      0  0.000000\n",
      "host_identity_verified                0  0.000000\n",
      "availability_365                      0  0.000000\n",
      "extra_people                          0  0.000000\n",
      "neighbourhood_cleansed                0  0.000000\n",
      "availability_90                       0  0.000000\n",
      "availability_60                       0  0.000000\n",
      "is_location_exact                     0  0.000000\n",
      "room_type                             0  0.000000\n",
      "accommodates                          0  0.000000\n",
      "availability_30                       0  0.000000\n",
      "calendar_updated                      0  0.000000\n",
      "calculated_host_listings_count        0  0.000000\n",
      "bed_type                              0  0.000000\n",
      "amenities                             0  0.000000\n",
      "price                                 0  0.000000\n",
      "maximum_nights                        0  0.000000\n",
      "guests_included                       0  0.000000\n",
      "name                                  0  0.000000\n"
     ]
    }
   ],
   "source": [
    "#We will fill missing values in the binary columns with most frequent value(mode)\n",
    "#add missing values to binary columns with mode method\n",
    "df_list = data.fill_missing_col(df_list,boolean_cols,'mode')\n",
    "data.print_top_x_missing_percent_cols(df_list,60)"
   ]
  },
  {
   "cell_type": "code",
   "execution_count": 15,
   "metadata": {},
   "outputs": [
    {
     "name": "stdout",
     "output_type": "stream",
     "text": [
      "                                  Total   Percent\n",
      "cleaning_fee                       1107  0.308787\n",
      "review_scores_accuracy              823  0.229568\n",
      "review_scores_location              822  0.229289\n",
      "review_scores_value                 821  0.229010\n",
      "review_scores_checkin               820  0.228731\n",
      "review_scores_cleanliness           818  0.228173\n",
      "review_scores_communication         818  0.228173\n",
      "review_scores_rating                813  0.226778\n",
      "reviews_per_month                   756  0.210879\n",
      "neighbourhood                       543  0.151464\n",
      "host_acceptance_rate                471  0.131381\n",
      "host_response_rate                  471  0.131381\n",
      "host_response_time                  471  0.131381\n",
      "host_neighbourhood                  339  0.094561\n",
      "summary                             143  0.039888\n",
      "zipcode                              38  0.010600\n",
      "market                               14  0.003905\n",
      "bathrooms                            14  0.003905\n",
      "host_location                        11  0.003068\n",
      "bedrooms                             10  0.002789\n",
      "beds                                  9  0.002510\n",
      "property_type                         3  0.000837\n",
      "city                                  2  0.000558\n",
      "minimum_nights                        0  0.000000\n",
      "host_is_superhost                     0  0.000000\n",
      "host_has_profile_pic                  0  0.000000\n",
      "host_verifications                    0  0.000000\n",
      "host_total_listings_count             0  0.000000\n",
      "host_listings_count                   0  0.000000\n",
      "number_of_reviews                     0  0.000000\n",
      "requires_license                      0  0.000000\n",
      "street                                0  0.000000\n",
      "instant_bookable                      0  0.000000\n",
      "cancellation_policy                   0  0.000000\n",
      "require_guest_profile_picture         0  0.000000\n",
      "host_since                            0  0.000000\n",
      "host_name                             0  0.000000\n",
      "description                           0  0.000000\n",
      "require_guest_phone_verification      0  0.000000\n",
      "host_identity_verified                0  0.000000\n",
      "availability_365                      0  0.000000\n",
      "extra_people                          0  0.000000\n",
      "neighbourhood_cleansed                0  0.000000\n",
      "availability_90                       0  0.000000\n",
      "availability_60                       0  0.000000\n",
      "is_location_exact                     0  0.000000\n",
      "room_type                             0  0.000000\n",
      "accommodates                          0  0.000000\n",
      "availability_30                       0  0.000000\n",
      "calendar_updated                      0  0.000000\n",
      "calculated_host_listings_count        0  0.000000\n",
      "bed_type                              0  0.000000\n",
      "amenities                             0  0.000000\n",
      "price                                 0  0.000000\n",
      "maximum_nights                        0  0.000000\n",
      "guests_included                       0  0.000000\n",
      "name                                  0  0.000000\n"
     ]
    }
   ],
   "source": [
    "#convert to binary\n",
    "df_list = data.convert_to_binary(df_list,boolean_cols)\n",
    "data.print_top_x_missing_percent_cols(df_list,60)"
   ]
  },
  {
   "cell_type": "code",
   "execution_count": 16,
   "metadata": {},
   "outputs": [
    {
     "data": {
      "text/plain": [
       "name                                 object\n",
       "summary                              object\n",
       "description                          object\n",
       "host_name                            object\n",
       "host_since                           object\n",
       "host_location                        object\n",
       "host_response_time                   object\n",
       "host_response_rate                  float64\n",
       "host_acceptance_rate                float64\n",
       "host_is_superhost                     int64\n",
       "host_neighbourhood                   object\n",
       "host_listings_count                   int64\n",
       "host_total_listings_count             int64\n",
       "host_verifications                   object\n",
       "host_has_profile_pic                  int64\n",
       "host_identity_verified                int64\n",
       "street                               object\n",
       "neighbourhood                        object\n",
       "neighbourhood_cleansed               object\n",
       "city                                 object\n",
       "zipcode                              object\n",
       "market                               object\n",
       "is_location_exact                     int64\n",
       "property_type                        object\n",
       "room_type                            object\n",
       "accommodates                          int64\n",
       "bathrooms                           float64\n",
       "bedrooms                            float64\n",
       "beds                                float64\n",
       "bed_type                             object\n",
       "amenities                            object\n",
       "price                               float64\n",
       "cleaning_fee                        float64\n",
       "guests_included                       int64\n",
       "extra_people                        float64\n",
       "minimum_nights                        int64\n",
       "maximum_nights                        int64\n",
       "calendar_updated                     object\n",
       "availability_30                       int64\n",
       "availability_60                       int64\n",
       "availability_90                       int64\n",
       "availability_365                      int64\n",
       "number_of_reviews                     int64\n",
       "review_scores_rating                float64\n",
       "review_scores_accuracy              float64\n",
       "review_scores_cleanliness           float64\n",
       "review_scores_checkin               float64\n",
       "review_scores_communication         float64\n",
       "review_scores_location              float64\n",
       "review_scores_value                 float64\n",
       "requires_license                      int64\n",
       "instant_bookable                      int64\n",
       "cancellation_policy                  object\n",
       "require_guest_profile_picture         int64\n",
       "require_guest_phone_verification      int64\n",
       "calculated_host_listings_count        int64\n",
       "reviews_per_month                   float64\n",
       "dtype: object"
      ]
     },
     "execution_count": 16,
     "metadata": {},
     "output_type": "execute_result"
    }
   ],
   "source": [
    "df_list.dtypes"
   ]
  },
  {
   "cell_type": "code",
   "execution_count": 17,
   "metadata": {},
   "outputs": [],
   "source": [
    "#Now we will convert some columns into category\n",
    "#category columns\n",
    "cat_cols = ['host_response_time','property_type','room_type', 'bed_type','cancellation_policy','neighbourhood_cleansed']"
   ]
  },
  {
   "cell_type": "code",
   "execution_count": 18,
   "metadata": {},
   "outputs": [
    {
     "name": "stdout",
     "output_type": "stream",
     "text": [
      "                                  Total   Percent\n",
      "cleaning_fee                       1107  0.308787\n",
      "review_scores_accuracy              823  0.229568\n",
      "review_scores_location              822  0.229289\n",
      "review_scores_value                 821  0.229010\n",
      "review_scores_checkin               820  0.228731\n",
      "review_scores_communication         818  0.228173\n",
      "review_scores_cleanliness           818  0.228173\n",
      "review_scores_rating                813  0.226778\n",
      "reviews_per_month                   756  0.210879\n",
      "neighbourhood                       543  0.151464\n",
      "host_acceptance_rate                471  0.131381\n",
      "host_response_rate                  471  0.131381\n",
      "host_neighbourhood                  339  0.094561\n",
      "summary                             143  0.039888\n",
      "zipcode                              38  0.010600\n",
      "market                               14  0.003905\n",
      "bathrooms                            14  0.003905\n",
      "host_location                        11  0.003068\n",
      "bedrooms                             10  0.002789\n",
      "beds                                  9  0.002510\n",
      "city                                  2  0.000558\n",
      "maximum_nights                        0  0.000000\n",
      "host_is_superhost                     0  0.000000\n",
      "host_identity_verified                0  0.000000\n",
      "host_has_profile_pic                  0  0.000000\n",
      "host_verifications                    0  0.000000\n",
      "host_total_listings_count             0  0.000000\n",
      "host_listings_count                   0  0.000000\n",
      "requires_license                      0  0.000000\n",
      "instant_bookable                      0  0.000000\n",
      "number_of_reviews                     0  0.000000\n",
      "cancellation_policy                   0  0.000000\n",
      "host_response_time                    0  0.000000\n",
      "require_guest_profile_picture         0  0.000000\n",
      "host_since                            0  0.000000\n",
      "host_name                             0  0.000000\n",
      "description                           0  0.000000\n",
      "require_guest_phone_verification      0  0.000000\n",
      "street                                0  0.000000\n",
      "neighbourhood_cleansed                0  0.000000\n",
      "minimum_nights                        0  0.000000\n",
      "calculated_host_listings_count        0  0.000000\n",
      "extra_people                          0  0.000000\n",
      "guests_included                       0  0.000000\n",
      "calendar_updated                      0  0.000000\n",
      "price                                 0  0.000000\n",
      "amenities                             0  0.000000\n",
      "bed_type                              0  0.000000\n",
      "availability_30                       0  0.000000\n",
      "availability_365                      0  0.000000\n",
      "availability_60                       0  0.000000\n",
      "accommodates                          0  0.000000\n",
      "room_type                             0  0.000000\n",
      "property_type                         0  0.000000\n",
      "is_location_exact                     0  0.000000\n",
      "availability_90                       0  0.000000\n",
      "name                                  0  0.000000\n"
     ]
    }
   ],
   "source": [
    "#First we will fill the missing columns with mode method\n",
    "df_list = data.fill_missing_col(df_list,cat_cols,'mode')\n",
    "data.print_top_x_missing_percent_cols(df_list,60)"
   ]
  },
  {
   "cell_type": "code",
   "execution_count": 19,
   "metadata": {},
   "outputs": [],
   "source": [
    "#convert to category\n",
    "df_list = data.convert_to_category(df_list,cat_cols)"
   ]
  },
  {
   "cell_type": "code",
   "execution_count": 20,
   "metadata": {},
   "outputs": [
    {
     "name": "stdout",
     "output_type": "stream",
     "text": [
      "                                  Total   Percent\n",
      "cleaning_fee                       1107  0.308787\n",
      "review_scores_accuracy              823  0.229568\n",
      "review_scores_location              822  0.229289\n",
      "review_scores_value                 821  0.229010\n",
      "review_scores_checkin               820  0.228731\n",
      "review_scores_cleanliness           818  0.228173\n",
      "review_scores_communication         818  0.228173\n",
      "review_scores_rating                813  0.226778\n",
      "reviews_per_month                   756  0.210879\n",
      "neighbourhood                       543  0.151464\n",
      "host_acceptance_rate                471  0.131381\n",
      "host_response_rate                  471  0.131381\n",
      "host_neighbourhood                  339  0.094561\n",
      "summary                             143  0.039888\n",
      "zipcode                              38  0.010600\n",
      "market                               14  0.003905\n",
      "bathrooms                            14  0.003905\n",
      "host_location                        11  0.003068\n",
      "bedrooms                             10  0.002789\n",
      "beds                                  9  0.002510\n",
      "city                                  2  0.000558\n",
      "availability_60                       0  0.000000\n",
      "availability_90                       0  0.000000\n",
      "availability_365                      0  0.000000\n",
      "number_of_reviews                     0  0.000000\n",
      "instant_bookable                      0  0.000000\n",
      "calculated_host_listings_count        0  0.000000\n",
      "require_guest_phone_verification      0  0.000000\n",
      "calendar_updated                      0  0.000000\n",
      "require_guest_profile_picture         0  0.000000\n",
      "requires_license                      0  0.000000\n",
      "availability_30                       0  0.000000\n",
      "West Roxbury                          0  0.000000\n",
      "maximum_nights                        0  0.000000\n",
      "host_has_profile_pic                  0  0.000000\n",
      "description                           0  0.000000\n",
      "host_name                             0  0.000000\n",
      "host_since                            0  0.000000\n",
      "host_is_superhost                     0  0.000000\n",
      "host_listings_count                   0  0.000000\n",
      "host_total_listings_count             0  0.000000\n",
      "host_verifications                    0  0.000000\n",
      "host_identity_verified                0  0.000000\n",
      "minimum_nights                        0  0.000000\n",
      "street                                0  0.000000\n",
      "is_location_exact                     0  0.000000\n",
      "accommodates                          0  0.000000\n",
      "a few days or more                    0  0.000000\n",
      "price                                 0  0.000000\n",
      "guests_included                       0  0.000000\n",
      "extra_people                          0  0.000000\n",
      "amenities                             0  0.000000\n",
      "within a day                          0  0.000000\n",
      "West End                              0  0.000000\n",
      "within a few hours                    0  0.000000\n",
      "Allston                               0  0.000000\n",
      "Back Bay                              0  0.000000\n",
      "Bay Village                           0  0.000000\n",
      "Beacon Hill                           0  0.000000\n",
      "Brighton                              0  0.000000\n"
     ]
    }
   ],
   "source": [
    "data.print_top_x_missing_percent_cols(df_list,60)"
   ]
  },
  {
   "cell_type": "code",
   "execution_count": 21,
   "metadata": {},
   "outputs": [],
   "source": [
    "#convert amenities to number of amenities\n",
    "df_list = data.list_feature_to_count(df_list,'amenities','num_amenities')"
   ]
  },
  {
   "cell_type": "code",
   "execution_count": 22,
   "metadata": {},
   "outputs": [
    {
     "data": {
      "text/plain": [
       "name                  object\n",
       "summary               object\n",
       "description           object\n",
       "host_name             object\n",
       "host_since            object\n",
       "host_location         object\n",
       "host_neighbourhood    object\n",
       "host_verifications    object\n",
       "street                object\n",
       "neighbourhood         object\n",
       "city                  object\n",
       "zipcode               object\n",
       "market                object\n",
       "calendar_updated      object\n",
       "dtype: object"
      ]
     },
     "execution_count": 22,
     "metadata": {},
     "output_type": "execute_result"
    }
   ],
   "source": [
    "df_list.select_dtypes(include=['object']).dtypes"
   ]
  },
  {
   "cell_type": "code",
   "execution_count": 23,
   "metadata": {},
   "outputs": [
    {
     "name": "stdout",
     "output_type": "stream",
     "text": [
      "                                  Total   Percent\n",
      "cleaning_fee                       1107  0.308787\n",
      "review_scores_accuracy              823  0.229568\n",
      "review_scores_location              822  0.229289\n",
      "review_scores_value                 821  0.229010\n",
      "review_scores_checkin               820  0.228731\n",
      "review_scores_cleanliness           818  0.228173\n",
      "review_scores_communication         818  0.228173\n",
      "review_scores_rating                813  0.226778\n",
      "reviews_per_month                   756  0.210879\n",
      "host_response_rate                  471  0.131381\n",
      "host_acceptance_rate                471  0.131381\n",
      "bathrooms                            14  0.003905\n",
      "bedrooms                             10  0.002789\n",
      "beds                                  9  0.002510\n",
      "requires_license                      0  0.000000\n",
      "Boat                                  0  0.000000\n",
      "Bed & Breakfast                       0  0.000000\n",
      "Apartment                             0  0.000000\n",
      "within an hour                        0  0.000000\n",
      "a few days or more                    0  0.000000\n",
      "instant_bookable                      0  0.000000\n",
      "require_guest_phone_verification      0  0.000000\n",
      "calculated_host_listings_count        0  0.000000\n",
      "within a few hours                    0  0.000000\n",
      "within a day                          0  0.000000\n",
      "require_guest_profile_picture         0  0.000000\n",
      "availability_365                      0  0.000000\n",
      "number_of_reviews                     0  0.000000\n",
      "Condominium                           0  0.000000\n",
      "host_is_superhost                     0  0.000000\n",
      "host_listings_count                   0  0.000000\n",
      "host_total_listings_count             0  0.000000\n",
      "host_has_profile_pic                  0  0.000000\n",
      "host_identity_verified                0  0.000000\n",
      "is_location_exact                     0  0.000000\n",
      "accommodates                          0  0.000000\n",
      "price                                 0  0.000000\n",
      "guests_included                       0  0.000000\n",
      "extra_people                          0  0.000000\n",
      "minimum_nights                        0  0.000000\n",
      "maximum_nights                        0  0.000000\n",
      "availability_30                       0  0.000000\n",
      "availability_60                       0  0.000000\n",
      "availability_90                       0  0.000000\n",
      "Camper/RV                             0  0.000000\n",
      "num_amenities                         0  0.000000\n",
      "West Roxbury                          0  0.000000\n",
      "Beacon Hill                           0  0.000000\n",
      "Charlestown                           0  0.000000\n",
      "Chinatown                             0  0.000000\n",
      "Dorchester                            0  0.000000\n",
      "Downtown                              0  0.000000\n",
      "East Boston                           0  0.000000\n",
      "Fenway                                0  0.000000\n",
      "Hyde Park                             0  0.000000\n",
      "Jamaica Plain                         0  0.000000\n",
      "Leather District                      0  0.000000\n",
      "Longwood Medical Area                 0  0.000000\n",
      "Mattapan                              0  0.000000\n",
      "Mission Hill                          0  0.000000\n"
     ]
    }
   ],
   "source": [
    "drop_columns_missing = ['name','summary','description',\n",
    "                        'host_name','host_since','host_location','host_neighbourhood','host_verifications',\n",
    "                        'street','neighbourhood','city','zipcode','market','calendar_updated']\n",
    "\n",
    "df_list = data.remove_columns(df_list,drop_columns_missing)\n",
    "data.print_top_x_missing_percent_cols(df_list,60)"
   ]
  },
  {
   "cell_type": "code",
   "execution_count": 24,
   "metadata": {},
   "outputs": [
    {
     "name": "stdout",
     "output_type": "stream",
     "text": [
      "                                  Total  Percent\n",
      "num_amenities                         0      0.0\n",
      "number_of_reviews                     0      0.0\n",
      "review_scores_accuracy                0      0.0\n",
      "review_scores_cleanliness             0      0.0\n",
      "review_scores_checkin                 0      0.0\n",
      "review_scores_communication           0      0.0\n",
      "review_scores_location                0      0.0\n",
      "review_scores_value                   0      0.0\n",
      "requires_license                      0      0.0\n",
      "instant_bookable                      0      0.0\n",
      "require_guest_profile_picture         0      0.0\n",
      "require_guest_phone_verification      0      0.0\n",
      "calculated_host_listings_count        0      0.0\n",
      "reviews_per_month                     0      0.0\n",
      "a few days or more                    0      0.0\n",
      "within a day                          0      0.0\n",
      "within a few hours                    0      0.0\n",
      "within an hour                        0      0.0\n",
      "Apartment                             0      0.0\n",
      "Bed & Breakfast                       0      0.0\n",
      "Boat                                  0      0.0\n",
      "review_scores_rating                  0      0.0\n",
      "availability_365                      0      0.0\n",
      "Condominium                           0      0.0\n",
      "availability_90                       0      0.0\n",
      "host_acceptance_rate                  0      0.0\n",
      "host_is_superhost                     0      0.0\n",
      "host_listings_count                   0      0.0\n",
      "host_total_listings_count             0      0.0\n",
      "host_has_profile_pic                  0      0.0\n",
      "host_identity_verified                0      0.0\n",
      "is_location_exact                     0      0.0\n",
      "accommodates                          0      0.0\n",
      "bathrooms                             0      0.0\n",
      "bedrooms                              0      0.0\n",
      "beds                                  0      0.0\n",
      "price                                 0      0.0\n",
      "cleaning_fee                          0      0.0\n",
      "guests_included                       0      0.0\n",
      "extra_people                          0      0.0\n",
      "minimum_nights                        0      0.0\n",
      "maximum_nights                        0      0.0\n",
      "availability_30                       0      0.0\n",
      "availability_60                       0      0.0\n",
      "Camper/RV                             0      0.0\n",
      "Dorm                                  0      0.0\n",
      "West Roxbury                          0      0.0\n",
      "Beacon Hill                           0      0.0\n",
      "Charlestown                           0      0.0\n",
      "Chinatown                             0      0.0\n",
      "Dorchester                            0      0.0\n",
      "Downtown                              0      0.0\n",
      "East Boston                           0      0.0\n",
      "Fenway                                0      0.0\n",
      "Hyde Park                             0      0.0\n",
      "Jamaica Plain                         0      0.0\n",
      "Leather District                      0      0.0\n",
      "Longwood Medical Area                 0      0.0\n",
      "Mattapan                              0      0.0\n",
      "Mission Hill                          0      0.0\n"
     ]
    }
   ],
   "source": [
    "fill_with_mean_cols = ['cleaning_fee','reviews_per_month','review_scores_rating','bathrooms']\n",
    "fill_with_mode_cols = ['review_scores_accuracy','review_scores_location','review_scores_value',\n",
    "                       'review_scores_communication','review_scores_cleanliness','review_scores_checkin',\n",
    "                       'host_acceptance_rate','host_response_rate','bedrooms','beds']\n",
    "\n",
    "df_list = data.fill_missing_col(df_list,fill_with_mean_cols,'mean')\n",
    "df_list = data.fill_missing_col(df_list,fill_with_mode_cols,'mode')\n",
    "data.print_top_x_missing_percent_cols(df_list,60)"
   ]
  },
  {
   "cell_type": "code",
   "execution_count": 25,
   "metadata": {},
   "outputs": [
    {
     "data": {
      "text/plain": [
       "<AxesSubplot:>"
      ]
     },
     "execution_count": 25,
     "metadata": {},
     "output_type": "execute_result"
    },
    {
     "data": {
      "image/png": "[encoded data removed]",
      "text/plain": [
       "<Figure size 720x720 with 2 Axes>"
      ]
     },
     "metadata": {
      "needs_background": "light"
     },
     "output_type": "display_data"
    }
   ],
   "source": [
    "#Lets analyze the heatmap\n",
    "fig, ax = plt.subplots(figsize=(10,10)) \n",
    "sns.heatmap(df_list.corr())"
   ]
  },
  {
   "cell_type": "markdown",
   "metadata": {},
   "source": [
    "Now we will implement machine learning models\n",
    "1. Liner regression \n",
    "2. Lasso regression \n",
    "3. Ridge regression\n",
    "4. Decision tree\n",
    "5. Random Forest\n",
    "6. XGBoost\n",
    "7. Neural Network"
   ]
  },
  {
   "cell_type": "code",
   "execution_count": 26,
   "metadata": {},
   "outputs": [],
   "source": [
    "y = df_list['price']\n",
    "X = df_list.drop(['price','requires_license'],axis=1)"
   ]
  },
  {
   "cell_type": "code",
   "execution_count": 27,
   "metadata": {},
   "outputs": [],
   "source": [
    "def normalize(df):\n",
    "    result = df.copy()\n",
    "    for feature_name in df.columns:\n",
    "        max_value = df[feature_name].max()\n",
    "        min_value = df[feature_name].min()\n",
    "        result[feature_name] = (df[feature_name] - min_value) / (max_value - min_value)\n",
    "    return result\n",
    "\n",
    "X=normalize(X)\n",
    "y= (y-min(y))/(max(y)-min(y))"
   ]
  },
  {
   "cell_type": "code",
   "execution_count": 28,
   "metadata": {},
   "outputs": [],
   "source": [
    "#Splitting the data into train and test\n",
    "X_train, X_test, y_train, y_test = train_test_split(X, y, test_size=0.3, random_state=10)"
   ]
  },
  {
   "cell_type": "markdown",
   "metadata": {},
   "source": [
    "1. Linear Regression"
   ]
  },
  {
   "cell_type": "code",
   "execution_count": 29,
   "metadata": {},
   "outputs": [
    {
     "data": {
      "text/plain": [
       "LinearRegression(normalize=True)"
      ]
     },
     "execution_count": 29,
     "metadata": {},
     "output_type": "execute_result"
    }
   ],
   "source": [
    "linear_model = LinearRegression(normalize=True)\n",
    "linear_model.fit(X_train,y_train)"
   ]
  },
  {
   "cell_type": "code",
   "execution_count": 30,
   "metadata": {},
   "outputs": [],
   "source": [
    "y_linear_predict = linear_model.predict(X_test)"
   ]
  },
  {
   "cell_type": "code",
   "execution_count": 31,
   "metadata": {},
   "outputs": [
    {
     "name": "stdout",
     "output_type": "stream",
     "text": [
      "Mean squared error:  0.000496103219518046\n",
      "r^2 score:  0.5158007423784016\n"
     ]
    }
   ],
   "source": [
    "print(\"Mean squared error: \",mean_squared_error(y_linear_predict,y_test))\n",
    "print(\"r^2 score: \",r2_score(y_test, y_linear_predict))"
   ]
  },
  {
   "cell_type": "markdown",
   "metadata": {},
   "source": [
    "2. Lasso Regression"
   ]
  },
  {
   "cell_type": "code",
   "execution_count": 32,
   "metadata": {},
   "outputs": [
    {
     "data": {
      "text/plain": [
       "LassoCV(cv=5, normalize=True)"
      ]
     },
     "execution_count": 32,
     "metadata": {},
     "output_type": "execute_result"
    }
   ],
   "source": [
    "lasso_model=LassoCV(normalize=True,cv=5)\n",
    "lasso_model.fit(X_train,y_train)"
   ]
  },
  {
   "cell_type": "code",
   "execution_count": 33,
   "metadata": {},
   "outputs": [],
   "source": [
    "y_lasso_predict = lasso_model.predict(X_test)"
   ]
  },
  {
   "cell_type": "code",
   "execution_count": 34,
   "metadata": {},
   "outputs": [
    {
     "name": "stdout",
     "output_type": "stream",
     "text": [
      "Mean squared error:  0.00048389372409664614\n",
      "r^2 score:  0.5277172718149961\n"
     ]
    }
   ],
   "source": [
    "print(\"Mean squared error: \",mean_squared_error(y_lasso_predict,y_test))\n",
    "print(\"r^2 score: \",r2_score(y_test, y_lasso_predict))"
   ]
  },
  {
   "cell_type": "code",
   "execution_count": 35,
   "metadata": {},
   "outputs": [
    {
     "data": {
      "text/plain": [
       "RidgeCV(alphas=array([ 0.1,  1. , 10. ]), cv=5, normalize=True)"
      ]
     },
     "execution_count": 35,
     "metadata": {},
     "output_type": "execute_result"
    }
   ],
   "source": [
    "ridge_model=RidgeCV(normalize=True,cv=5)\n",
    "ridge_model.fit(X_train,y_train)"
   ]
  },
  {
   "cell_type": "code",
   "execution_count": 36,
   "metadata": {},
   "outputs": [],
   "source": [
    "y_ridge_predict = ridge_model.predict(X_test)"
   ]
  },
  {
   "cell_type": "code",
   "execution_count": 37,
   "metadata": {},
   "outputs": [
    {
     "name": "stdout",
     "output_type": "stream",
     "text": [
      "Mean squared error:  0.0007652672707212559\n",
      "r^2 score:  0.25309526367252244\n"
     ]
    }
   ],
   "source": [
    "print(\"Mean squared error: \",mean_squared_error(y_ridge_predict,y_test))\n",
    "print(\"r^2 score: \",r2_score(y_test, y_ridge_predict))"
   ]
  },
  {
   "cell_type": "markdown",
   "metadata": {},
   "source": [
    "2. Decision Trees"
   ]
  },
  {
   "cell_type": "code",
   "execution_count": 38,
   "metadata": {},
   "outputs": [
    {
     "data": {
      "text/plain": [
       "DecisionTreeRegressor()"
      ]
     },
     "execution_count": 38,
     "metadata": {},
     "output_type": "execute_result"
    }
   ],
   "source": [
    "dtree_model=DecisionTreeRegressor(criterion=\"mse\")\n",
    "dtree_model.fit(X_train,y_train)"
   ]
  },
  {
   "cell_type": "code",
   "execution_count": 39,
   "metadata": {},
   "outputs": [],
   "source": [
    "y_dtree_predict = dtree_model.predict(X_test)"
   ]
  },
  {
   "cell_type": "code",
   "execution_count": 40,
   "metadata": {},
   "outputs": [
    {
     "name": "stdout",
     "output_type": "stream",
     "text": [
      "Mean squared error:  0.0029343370701866234\n",
      "r^2 score:  -1.8639278583521\n"
     ]
    }
   ],
   "source": [
    "print(\"Mean squared error: \",mean_squared_error(y_dtree_predict,y_test))\n",
    "print(\"r^2 score: \",r2_score(y_test, y_dtree_predict))"
   ]
  },
  {
   "cell_type": "code",
   "execution_count": 41,
   "metadata": {},
   "outputs": [
    {
     "data": {
      "text/plain": [
       "RandomForestRegressor(random_state=12)"
      ]
     },
     "execution_count": 41,
     "metadata": {},
     "output_type": "execute_result"
    }
   ],
   "source": [
    "rforest_model = RandomForestRegressor(random_state=12)\n",
    "rforest_model.fit(X_train,y_train)"
   ]
  },
  {
   "cell_type": "code",
   "execution_count": 42,
   "metadata": {},
   "outputs": [],
   "source": [
    "y_rforest_predict = rforest_model.predict(X_test)"
   ]
  },
  {
   "cell_type": "code",
   "execution_count": 43,
   "metadata": {},
   "outputs": [
    {
     "name": "stdout",
     "output_type": "stream",
     "text": [
      "Mean squared error:  0.00042786064687108584\n",
      "r^2 score:  0.5824058392893765\n"
     ]
    }
   ],
   "source": [
    "print(\"Mean squared error: \",mean_squared_error(y_rforest_predict,y_test))\n",
    "print(\"r^2 score: \",r2_score(y_test, y_rforest_predict))"
   ]
  },
  {
   "cell_type": "markdown",
   "metadata": {},
   "source": [
    "XGBoost"
   ]
  },
  {
   "cell_type": "code",
   "execution_count": 44,
   "metadata": {},
   "outputs": [
    {
     "data": {
      "text/plain": [
       "XGBRegressor(base_score=0.5, booster='gbtree', colsample_bylevel=1,\n",
       "             colsample_bynode=1, colsample_bytree=1, gamma=0, gpu_id=-1,\n",
       "             importance_type='gain', interaction_constraints='',\n",
       "             learning_rate=0.300000012, max_delta_step=0, max_depth=6,\n",
       "             min_child_weight=1, missing=nan, monotone_constraints='()',\n",
       "             n_estimators=100, n_jobs=0, num_parallel_tree=1, random_state=0,\n",
       "             reg_alpha=0, reg_lambda=1, scale_pos_weight=1, subsample=1,\n",
       "             tree_method='exact', validate_parameters=1, verbosity=None)"
      ]
     },
     "execution_count": 44,
     "metadata": {},
     "output_type": "execute_result"
    }
   ],
   "source": [
    "xgboost_model = XGBRegressor(objective='reg:squarederror')\n",
    "xgboost_model.fit(X_train, y_train)"
   ]
  },
  {
   "cell_type": "code",
   "execution_count": 45,
   "metadata": {},
   "outputs": [],
   "source": [
    "y_xgboost_predict = xgboost_model.predict(X_test)"
   ]
  },
  {
   "cell_type": "code",
   "execution_count": 46,
   "metadata": {},
   "outputs": [
    {
     "name": "stdout",
     "output_type": "stream",
     "text": [
      "Mean squared error:  0.0005539598694179121\n",
      "r^2 score:  0.45933235872791234\n"
     ]
    }
   ],
   "source": [
    "print(\"Mean squared error: \",mean_squared_error(y_xgboost_predict,y_test))\n",
    "print(\"r^2 score: \",r2_score(y_test, y_xgboost_predict))"
   ]
  },
  {
   "cell_type": "markdown",
   "metadata": {},
   "source": [
    "Neural Network"
   ]
  },
  {
   "cell_type": "code",
   "execution_count": 47,
   "metadata": {},
   "outputs": [],
   "source": [
    "import keras\n",
    "from keras.models import Sequential\n",
    "from keras.layers import Dense\n",
    "from keras.layers import LeakyReLU,PReLU,ELU\n",
    "from keras.layers import Dropout"
   ]
  },
  {
   "cell_type": "code",
   "execution_count": 48,
   "metadata": {},
   "outputs": [
    {
     "name": "stdout",
     "output_type": "stream",
     "text": [
      "Model: \"sequential\"\n",
      "_________________________________________________________________\n",
      "Layer (type)                 Output Shape              Param #   \n",
      "=================================================================\n",
      "dense (Dense)                (None, 128)               11520     \n",
      "_________________________________________________________________\n",
      "dense_1 (Dense)              (None, 256)               33024     \n",
      "_________________________________________________________________\n",
      "dense_2 (Dense)              (None, 256)               65792     \n",
      "_________________________________________________________________\n",
      "dense_3 (Dense)              (None, 256)               65792     \n",
      "_________________________________________________________________\n",
      "dense_4 (Dense)              (None, 1)                 257       \n",
      "=================================================================\n",
      "Total params: 176,385\n",
      "Trainable params: 176,385\n",
      "Non-trainable params: 0\n",
      "_________________________________________________________________\n",
      "Epoch 1/100\n",
      "169/169 [==============================] - 2s 11ms/step - loss: 0.0016 - mean_absolute_error: 0.0176 - val_loss: 6.0739e-04 - val_mean_absolute_error: 0.0127\n",
      "Epoch 2/100\n",
      "169/169 [==============================] - 1s 7ms/step - loss: 0.0014 - mean_absolute_error: 0.0156 - val_loss: 6.5823e-04 - val_mean_absolute_error: 0.0139\n",
      "Epoch 3/100\n",
      "169/169 [==============================] - 1s 8ms/step - loss: 0.0014 - mean_absolute_error: 0.0156 - val_loss: 5.7647e-04 - val_mean_absolute_error: 0.0126\n",
      "Epoch 4/100\n",
      "169/169 [==============================] - 1s 7ms/step - loss: 0.0013 - mean_absolute_error: 0.0154 - val_loss: 5.4874e-04 - val_mean_absolute_error: 0.0148\n",
      "Epoch 5/100\n",
      "169/169 [==============================] - 2s 12ms/step - loss: 0.0013 - mean_absolute_error: 0.0143 - val_loss: 5.4338e-04 - val_mean_absolute_error: 0.0142\n",
      "Epoch 6/100\n",
      "169/169 [==============================] - 1s 7ms/step - loss: 0.0013 - mean_absolute_error: 0.0148 - val_loss: 5.7777e-04 - val_mean_absolute_error: 0.0142\n",
      "Epoch 7/100\n",
      "169/169 [==============================] - 1s 7ms/step - loss: 0.0013 - mean_absolute_error: 0.0154 - val_loss: 5.9855e-04 - val_mean_absolute_error: 0.0148\n",
      "Epoch 8/100\n",
      "169/169 [==============================] - 1s 7ms/step - loss: 0.0013 - mean_absolute_error: 0.0151 - val_loss: 5.2172e-04 - val_mean_absolute_error: 0.0122\n",
      "Epoch 9/100\n",
      "169/169 [==============================] - 1s 6ms/step - loss: 0.0013 - mean_absolute_error: 0.0139 - val_loss: 5.9252e-04 - val_mean_absolute_error: 0.0150\n",
      "Epoch 10/100\n",
      "169/169 [==============================] - 1s 7ms/step - loss: 0.0013 - mean_absolute_error: 0.0145 - val_loss: 5.6004e-04 - val_mean_absolute_error: 0.0137\n",
      "Epoch 11/100\n",
      "169/169 [==============================] - 1s 6ms/step - loss: 0.0013 - mean_absolute_error: 0.0153 - val_loss: 5.3568e-04 - val_mean_absolute_error: 0.0122\n",
      "Epoch 12/100\n",
      "169/169 [==============================] - 1s 7ms/step - loss: 0.0012 - mean_absolute_error: 0.0141 - val_loss: 4.8711e-04 - val_mean_absolute_error: 0.0126\n",
      "Epoch 13/100\n",
      "169/169 [==============================] - 1s 7ms/step - loss: 0.0012 - mean_absolute_error: 0.0145 - val_loss: 5.3927e-04 - val_mean_absolute_error: 0.0125\n",
      "Epoch 14/100\n",
      "169/169 [==============================] - 1s 7ms/step - loss: 0.0011 - mean_absolute_error: 0.0129 - val_loss: 6.3126e-04 - val_mean_absolute_error: 0.0149\n",
      "Epoch 15/100\n",
      "169/169 [==============================] - 1s 7ms/step - loss: 0.0013 - mean_absolute_error: 0.0152 - val_loss: 5.7102e-04 - val_mean_absolute_error: 0.0135\n",
      "Epoch 16/100\n",
      "169/169 [==============================] - 1s 8ms/step - loss: 0.0014 - mean_absolute_error: 0.0163 - val_loss: 5.3021e-04 - val_mean_absolute_error: 0.0128\n",
      "Epoch 17/100\n",
      "169/169 [==============================] - 1s 7ms/step - loss: 0.0012 - mean_absolute_error: 0.0151 - val_loss: 8.6577e-04 - val_mean_absolute_error: 0.0231\n",
      "Epoch 18/100\n",
      "169/169 [==============================] - 1s 8ms/step - loss: 0.0013 - mean_absolute_error: 0.0150 - val_loss: 6.3675e-04 - val_mean_absolute_error: 0.0147\n",
      "Epoch 19/100\n",
      "169/169 [==============================] - 1s 7ms/step - loss: 0.0011 - mean_absolute_error: 0.0137 - val_loss: 5.4226e-04 - val_mean_absolute_error: 0.0135\n",
      "Epoch 20/100\n",
      "169/169 [==============================] - 1s 6ms/step - loss: 0.0012 - mean_absolute_error: 0.0154 - val_loss: 6.9494e-04 - val_mean_absolute_error: 0.0182\n",
      "Epoch 21/100\n",
      "169/169 [==============================] - 1s 8ms/step - loss: 0.0013 - mean_absolute_error: 0.0147 - val_loss: 5.7386e-04 - val_mean_absolute_error: 0.0141\n",
      "Epoch 22/100\n",
      "169/169 [==============================] - 1s 6ms/step - loss: 0.0012 - mean_absolute_error: 0.0135 - val_loss: 9.5791e-04 - val_mean_absolute_error: 0.0224\n",
      "Epoch 23/100\n",
      "169/169 [==============================] - 1s 5ms/step - loss: 0.0011 - mean_absolute_error: 0.0148 - val_loss: 6.3412e-04 - val_mean_absolute_error: 0.0130\n",
      "Epoch 24/100\n",
      "169/169 [==============================] - 1s 6ms/step - loss: 0.0011 - mean_absolute_error: 0.0155 - val_loss: 0.0013 - val_mean_absolute_error: 0.0293\n",
      "Epoch 25/100\n",
      "169/169 [==============================] - 1s 6ms/step - loss: 0.0015 - mean_absolute_error: 0.0164 - val_loss: 5.6241e-04 - val_mean_absolute_error: 0.0128\n",
      "Epoch 26/100\n",
      "169/169 [==============================] - 1s 6ms/step - loss: 0.0013 - mean_absolute_error: 0.0139 - val_loss: 5.7283e-04 - val_mean_absolute_error: 0.0142\n",
      "Epoch 27/100\n",
      "169/169 [==============================] - 1s 6ms/step - loss: 0.0013 - mean_absolute_error: 0.0142 - val_loss: 5.3921e-04 - val_mean_absolute_error: 0.0140\n",
      "Epoch 28/100\n",
      "169/169 [==============================] - 1s 6ms/step - loss: 0.0012 - mean_absolute_error: 0.0145 - val_loss: 5.9151e-04 - val_mean_absolute_error: 0.0145\n",
      "Epoch 29/100\n",
      "169/169 [==============================] - 2s 11ms/step - loss: 0.0012 - mean_absolute_error: 0.0136 - val_loss: 6.7024e-04 - val_mean_absolute_error: 0.0163\n",
      "Epoch 30/100\n",
      "169/169 [==============================] - 2s 10ms/step - loss: 0.0011 - mean_absolute_error: 0.0142 - val_loss: 5.7959e-04 - val_mean_absolute_error: 0.0145\n",
      "Epoch 31/100\n",
      "169/169 [==============================] - 1s 8ms/step - loss: 0.0013 - mean_absolute_error: 0.0158 - val_loss: 7.6507e-04 - val_mean_absolute_error: 0.0188\n",
      "Epoch 32/100\n",
      "169/169 [==============================] - 1s 7ms/step - loss: 0.0012 - mean_absolute_error: 0.0148 - val_loss: 6.0697e-04 - val_mean_absolute_error: 0.0149\n",
      "Epoch 33/100\n",
      "169/169 [==============================] - 1s 7ms/step - loss: 0.0010 - mean_absolute_error: 0.0128 - val_loss: 5.2419e-04 - val_mean_absolute_error: 0.0132\n",
      "Epoch 34/100\n",
      "169/169 [==============================] - 1s 7ms/step - loss: 0.0011 - mean_absolute_error: 0.0134 - val_loss: 5.5856e-04 - val_mean_absolute_error: 0.0137\n",
      "Epoch 35/100\n",
      "169/169 [==============================] - 1s 7ms/step - loss: 0.0011 - mean_absolute_error: 0.0152 - val_loss: 5.7959e-04 - val_mean_absolute_error: 0.0143\n",
      "Epoch 36/100\n",
      "169/169 [==============================] - 1s 6ms/step - loss: 0.0012 - mean_absolute_error: 0.0148 - val_loss: 5.2306e-04 - val_mean_absolute_error: 0.0133\n",
      "Epoch 37/100\n",
      "169/169 [==============================] - 1s 7ms/step - loss: 0.0012 - mean_absolute_error: 0.0139 - val_loss: 5.6552e-04 - val_mean_absolute_error: 0.0133\n",
      "Epoch 38/100\n",
      "169/169 [==============================] - 1s 7ms/step - loss: 0.0012 - mean_absolute_error: 0.0136 - val_loss: 6.0048e-04 - val_mean_absolute_error: 0.0150\n",
      "Epoch 39/100\n",
      "169/169 [==============================] - 1s 8ms/step - loss: 0.0011 - mean_absolute_error: 0.0139 - val_loss: 5.4172e-04 - val_mean_absolute_error: 0.0135\n",
      "Epoch 40/100\n",
      "169/169 [==============================] - 1s 9ms/step - loss: 9.4386e-04 - mean_absolute_error: 0.0125 - val_loss: 8.4482e-04 - val_mean_absolute_error: 0.0151\n",
      "Epoch 41/100\n",
      "169/169 [==============================] - 1s 7ms/step - loss: 0.0010 - mean_absolute_error: 0.0124 - val_loss: 0.0012 - val_mean_absolute_error: 0.0242\n",
      "Epoch 42/100\n",
      "169/169 [==============================] - 1s 6ms/step - loss: 0.0010 - mean_absolute_error: 0.0137 - val_loss: 5.6319e-04 - val_mean_absolute_error: 0.0132\n",
      "Epoch 43/100\n"
     ]
    },
    {
     "name": "stdout",
     "output_type": "stream",
     "text": [
      "169/169 [==============================] - 1s 6ms/step - loss: 9.8206e-04 - mean_absolute_error: 0.0124 - val_loss: 5.7592e-04 - val_mean_absolute_error: 0.0142\n",
      "Epoch 44/100\n",
      "169/169 [==============================] - 1s 6ms/step - loss: 0.0011 - mean_absolute_error: 0.0140 - val_loss: 5.6337e-04 - val_mean_absolute_error: 0.0133\n",
      "Epoch 45/100\n",
      "169/169 [==============================] - 1s 5ms/step - loss: 0.0011 - mean_absolute_error: 0.0128 - val_loss: 0.0012 - val_mean_absolute_error: 0.0208\n",
      "Epoch 46/100\n",
      "169/169 [==============================] - 1s 6ms/step - loss: 9.5205e-04 - mean_absolute_error: 0.0127 - val_loss: 9.6077e-04 - val_mean_absolute_error: 0.0177\n",
      "Epoch 47/100\n",
      "169/169 [==============================] - 1s 5ms/step - loss: 0.0010 - mean_absolute_error: 0.0143 - val_loss: 5.3508e-04 - val_mean_absolute_error: 0.0133\n",
      "Epoch 48/100\n",
      "169/169 [==============================] - 1s 5ms/step - loss: 0.0012 - mean_absolute_error: 0.0133 - val_loss: 5.4071e-04 - val_mean_absolute_error: 0.0134\n",
      "Epoch 49/100\n",
      "169/169 [==============================] - 1s 5ms/step - loss: 0.0010 - mean_absolute_error: 0.0124 - val_loss: 5.2445e-04 - val_mean_absolute_error: 0.0131\n",
      "Epoch 50/100\n",
      "169/169 [==============================] - 1s 5ms/step - loss: 9.4724e-04 - mean_absolute_error: 0.0132 - val_loss: 5.8418e-04 - val_mean_absolute_error: 0.0141\n",
      "Epoch 51/100\n",
      "169/169 [==============================] - 1s 5ms/step - loss: 0.0011 - mean_absolute_error: 0.0150 - val_loss: 5.7174e-04 - val_mean_absolute_error: 0.0136\n",
      "Epoch 52/100\n",
      "169/169 [==============================] - 1s 5ms/step - loss: 9.7131e-04 - mean_absolute_error: 0.0132 - val_loss: 5.5808e-04 - val_mean_absolute_error: 0.0143\n",
      "Epoch 53/100\n",
      "169/169 [==============================] - 1s 5ms/step - loss: 9.4316e-04 - mean_absolute_error: 0.0127 - val_loss: 7.3729e-04 - val_mean_absolute_error: 0.0176\n",
      "Epoch 54/100\n",
      "169/169 [==============================] - 1s 6ms/step - loss: 8.0738e-04 - mean_absolute_error: 0.0126 - val_loss: 5.9212e-04 - val_mean_absolute_error: 0.0136\n",
      "Epoch 55/100\n",
      "169/169 [==============================] - 1s 5ms/step - loss: 7.8626e-04 - mean_absolute_error: 0.0124 - val_loss: 6.2602e-04 - val_mean_absolute_error: 0.0138\n",
      "Epoch 56/100\n",
      "169/169 [==============================] - 1s 6ms/step - loss: 9.5265e-04 - mean_absolute_error: 0.0139 - val_loss: 6.5247e-04 - val_mean_absolute_error: 0.0162\n",
      "Epoch 57/100\n",
      "169/169 [==============================] - 1s 6ms/step - loss: 0.0010 - mean_absolute_error: 0.0126 - val_loss: 8.6184e-04 - val_mean_absolute_error: 0.0182\n",
      "Epoch 58/100\n",
      "169/169 [==============================] - 1s 5ms/step - loss: 8.2571e-04 - mean_absolute_error: 0.0127 - val_loss: 5.8498e-04 - val_mean_absolute_error: 0.0137\n",
      "Epoch 59/100\n",
      "169/169 [==============================] - 1s 5ms/step - loss: 0.0010 - mean_absolute_error: 0.0126 - val_loss: 6.9469e-04 - val_mean_absolute_error: 0.0143\n",
      "Epoch 60/100\n",
      "169/169 [==============================] - 1s 6ms/step - loss: 8.8984e-04 - mean_absolute_error: 0.0131 - val_loss: 6.5895e-04 - val_mean_absolute_error: 0.0142\n",
      "Epoch 61/100\n",
      "169/169 [==============================] - 1s 5ms/step - loss: 7.3530e-04 - mean_absolute_error: 0.0122 - val_loss: 7.0191e-04 - val_mean_absolute_error: 0.0150\n",
      "Epoch 62/100\n",
      "169/169 [==============================] - 1s 5ms/step - loss: 6.0676e-04 - mean_absolute_error: 0.0111 - val_loss: 8.6412e-04 - val_mean_absolute_error: 0.0156\n",
      "Epoch 63/100\n",
      "169/169 [==============================] - 1s 5ms/step - loss: 6.3869e-04 - mean_absolute_error: 0.0111 - val_loss: 8.5417e-04 - val_mean_absolute_error: 0.0155\n",
      "Epoch 64/100\n",
      "169/169 [==============================] - 1s 7ms/step - loss: 6.0471e-04 - mean_absolute_error: 0.0118 - val_loss: 5.7596e-04 - val_mean_absolute_error: 0.0127\n",
      "Epoch 65/100\n",
      "169/169 [==============================] - 1s 5ms/step - loss: 0.0012 - mean_absolute_error: 0.0149 - val_loss: 5.4778e-04 - val_mean_absolute_error: 0.0135\n",
      "Epoch 66/100\n",
      "169/169 [==============================] - 1s 5ms/step - loss: 9.9870e-04 - mean_absolute_error: 0.0115 - val_loss: 6.6546e-04 - val_mean_absolute_error: 0.0176\n",
      "Epoch 67/100\n",
      "169/169 [==============================] - 2s 10ms/step - loss: 0.0013 - mean_absolute_error: 0.0146 - val_loss: 5.4082e-04 - val_mean_absolute_error: 0.0135\n",
      "Epoch 68/100\n",
      "169/169 [==============================] - 1s 6ms/step - loss: 0.0011 - mean_absolute_error: 0.0125 - val_loss: 5.5035e-04 - val_mean_absolute_error: 0.0133\n",
      "Epoch 69/100\n",
      "169/169 [==============================] - 1s 6ms/step - loss: 8.7339e-04 - mean_absolute_error: 0.0112 - val_loss: 7.0181e-04 - val_mean_absolute_error: 0.0151\n",
      "Epoch 70/100\n",
      "169/169 [==============================] - 1s 6ms/step - loss: 8.1949e-04 - mean_absolute_error: 0.0120 - val_loss: 6.8099e-04 - val_mean_absolute_error: 0.0144\n",
      "Epoch 71/100\n",
      "169/169 [==============================] - 1s 5ms/step - loss: 6.2200e-04 - mean_absolute_error: 0.0115 - val_loss: 5.5037e-04 - val_mean_absolute_error: 0.0141\n",
      "Epoch 72/100\n",
      "169/169 [==============================] - 1s 5ms/step - loss: 6.3930e-04 - mean_absolute_error: 0.0112 - val_loss: 5.6557e-04 - val_mean_absolute_error: 0.0133\n",
      "Epoch 73/100\n",
      "169/169 [==============================] - 1s 6ms/step - loss: 0.0021 - mean_absolute_error: 0.0146 - val_loss: 5.7352e-04 - val_mean_absolute_error: 0.0139\n",
      "Epoch 74/100\n",
      "169/169 [==============================] - 1s 6ms/step - loss: 0.0012 - mean_absolute_error: 0.0127 - val_loss: 5.4265e-04 - val_mean_absolute_error: 0.0145\n",
      "Epoch 75/100\n",
      "169/169 [==============================] - 1s 6ms/step - loss: 0.0010 - mean_absolute_error: 0.0124 - val_loss: 5.3263e-04 - val_mean_absolute_error: 0.0132\n",
      "Epoch 76/100\n",
      "169/169 [==============================] - 1s 6ms/step - loss: 9.3018e-04 - mean_absolute_error: 0.0125 - val_loss: 5.7568e-04 - val_mean_absolute_error: 0.0141\n",
      "Epoch 77/100\n",
      "169/169 [==============================] - 1s 6ms/step - loss: 7.1280e-04 - mean_absolute_error: 0.0112 - val_loss: 6.5391e-04 - val_mean_absolute_error: 0.0142\n",
      "Epoch 78/100\n",
      "169/169 [==============================] - 1s 5ms/step - loss: 6.1332e-04 - mean_absolute_error: 0.0105 - val_loss: 5.8021e-04 - val_mean_absolute_error: 0.0139\n",
      "Epoch 79/100\n",
      "169/169 [==============================] - 1s 6ms/step - loss: 6.4795e-04 - mean_absolute_error: 0.0111 - val_loss: 5.3854e-04 - val_mean_absolute_error: 0.0136\n",
      "Epoch 80/100\n",
      "169/169 [==============================] - 1s 6ms/step - loss: 8.5740e-04 - mean_absolute_error: 0.0122 - val_loss: 6.3743e-04 - val_mean_absolute_error: 0.0145\n",
      "Epoch 81/100\n",
      "169/169 [==============================] - 1s 6ms/step - loss: 6.1471e-04 - mean_absolute_error: 0.0107 - val_loss: 5.4429e-04 - val_mean_absolute_error: 0.0133\n",
      "Epoch 82/100\n",
      "169/169 [==============================] - 1s 6ms/step - loss: 6.1209e-04 - mean_absolute_error: 0.0110 - val_loss: 6.1393e-04 - val_mean_absolute_error: 0.0142\n",
      "Epoch 83/100\n",
      "169/169 [==============================] - 1s 6ms/step - loss: 5.3701e-04 - mean_absolute_error: 0.0099 - val_loss: 6.0066e-04 - val_mean_absolute_error: 0.0145\n",
      "Epoch 84/100\n",
      "169/169 [==============================] - 1s 6ms/step - loss: 5.2392e-04 - mean_absolute_error: 0.0101 - val_loss: 5.2876e-04 - val_mean_absolute_error: 0.0132\n",
      "Epoch 85/100\n",
      "169/169 [==============================] - 1s 6ms/step - loss: 6.6607e-04 - mean_absolute_error: 0.0112 - val_loss: 7.1181e-04 - val_mean_absolute_error: 0.0158\n",
      "Epoch 86/100\n",
      "169/169 [==============================] - 2s 11ms/step - loss: 6.5041e-04 - mean_absolute_error: 0.0114 - val_loss: 6.3563e-04 - val_mean_absolute_error: 0.0146\n",
      "Epoch 87/100\n",
      "169/169 [==============================] - 2s 13ms/step - loss: 5.3384e-04 - mean_absolute_error: 0.0109 - val_loss: 5.6333e-04 - val_mean_absolute_error: 0.0140\n",
      "Epoch 88/100\n",
      "169/169 [==============================] - 2s 13ms/step - loss: 4.2663e-04 - mean_absolute_error: 0.0096 - val_loss: 6.0859e-04 - val_mean_absolute_error: 0.0136\n",
      "Epoch 89/100\n",
      "169/169 [==============================] - 1s 9ms/step - loss: 4.1149e-04 - mean_absolute_error: 0.0094 - val_loss: 5.8425e-04 - val_mean_absolute_error: 0.0137\n",
      "Epoch 90/100\n"
     ]
    },
    {
     "name": "stdout",
     "output_type": "stream",
     "text": [
      "169/169 [==============================] - 1s 7ms/step - loss: 4.1413e-04 - mean_absolute_error: 0.0099 - val_loss: 5.8315e-04 - val_mean_absolute_error: 0.0134\n",
      "Epoch 91/100\n",
      "169/169 [==============================] - 1s 6ms/step - loss: 4.0245e-04 - mean_absolute_error: 0.0095 - val_loss: 5.8612e-04 - val_mean_absolute_error: 0.0136\n",
      "Epoch 92/100\n",
      "169/169 [==============================] - 1s 6ms/step - loss: 4.2208e-04 - mean_absolute_error: 0.0099 - val_loss: 5.5987e-04 - val_mean_absolute_error: 0.0132\n",
      "Epoch 93/100\n",
      "169/169 [==============================] - 1s 7ms/step - loss: 4.5552e-04 - mean_absolute_error: 0.0104 - val_loss: 6.2251e-04 - val_mean_absolute_error: 0.0145\n",
      "Epoch 94/100\n",
      "169/169 [==============================] - 1s 5ms/step - loss: 5.2777e-04 - mean_absolute_error: 0.0117 - val_loss: 5.3680e-04 - val_mean_absolute_error: 0.0140\n",
      "Epoch 95/100\n",
      "169/169 [==============================] - 1s 6ms/step - loss: 0.0010 - mean_absolute_error: 0.0140 - val_loss: 0.0013 - val_mean_absolute_error: 0.0177\n",
      "Epoch 96/100\n",
      "169/169 [==============================] - 1s 6ms/step - loss: 5.2607e-04 - mean_absolute_error: 0.0111 - val_loss: 7.1170e-04 - val_mean_absolute_error: 0.0144\n",
      "Epoch 97/100\n",
      "169/169 [==============================] - 1s 6ms/step - loss: 5.2482e-04 - mean_absolute_error: 0.0100 - val_loss: 6.3821e-04 - val_mean_absolute_error: 0.0138\n",
      "Epoch 98/100\n",
      "169/169 [==============================] - 1s 6ms/step - loss: 4.9788e-04 - mean_absolute_error: 0.0112 - val_loss: 5.6908e-04 - val_mean_absolute_error: 0.0138\n",
      "Epoch 99/100\n",
      "169/169 [==============================] - 1s 6ms/step - loss: 0.0010 - mean_absolute_error: 0.0130 - val_loss: 5.5277e-04 - val_mean_absolute_error: 0.0136\n",
      "Epoch 100/100\n",
      "169/169 [==============================] - 1s 6ms/step - loss: 6.4030e-04 - mean_absolute_error: 0.0117 - val_loss: 5.3321e-04 - val_mean_absolute_error: 0.0134\n"
     ]
    }
   ],
   "source": [
    "nn_model = Sequential()\n",
    "\n",
    "nn_model.add(Dense(128, kernel_initializer='normal',input_dim = X_train.shape[1], activation='relu'))\n",
    "\n",
    "# The Hidden Layers :\n",
    "nn_model.add(Dense(256, kernel_initializer='normal',activation='relu'))\n",
    "nn_model.add(Dense(256, kernel_initializer='normal',activation='relu'))\n",
    "nn_model.add(Dense(256, kernel_initializer='normal',activation='relu'))\n",
    "\n",
    "# The Output Layer :\n",
    "nn_model.add(Dense(1, kernel_initializer='normal',activation='linear'))\n",
    "\n",
    "nn_model.compile(loss='mean_squared_error', optimizer='adam', metrics=['mean_absolute_error'])\n",
    "nn_model.summary()\n",
    "\n",
    "model_history=nn_model.fit(X_train, y_train,validation_split=0.33, batch_size = 10, epochs = 100)"
   ]
  },
  {
   "cell_type": "code",
   "execution_count": 49,
   "metadata": {},
   "outputs": [],
   "source": [
    "y_nn_predict=nn_model.predict(X_test)"
   ]
  },
  {
   "cell_type": "code",
   "execution_count": 50,
   "metadata": {},
   "outputs": [
    {
     "name": "stdout",
     "output_type": "stream",
     "text": [
      "Mean squared error:  0.0005890026705564407\n",
      "r^2 score:  0.42513040714061845\n"
     ]
    }
   ],
   "source": [
    "print(\"Mean squared error: \",mean_squared_error(y_nn_predict,y_test))\n",
    "print(\"r^2 score: \",r2_score(y_test, y_nn_predict))"
   ]
  },
  {
   "cell_type": "code",
   "execution_count": 54,
   "metadata": {},
   "outputs": [
    {
     "data": {
      "image/png": "[encoded data removed]",
      "text/plain": [
       "<Figure size 842.4x595.44 with 2 Axes>"
      ]
     },
     "metadata": {
      "needs_background": "light"
     },
     "output_type": "display_data"
    }
   ],
   "source": [
    "axis_dims = (11.7, 8.27)\n",
    "fig, ax = plt.subplots(figsize=axis_dims)\n",
    "\n",
    "sns.distplot(y_linear_predict,rug=True, hist=False,label='linear',color='violet')\n",
    "sns.distplot(y_lasso_predict,rug=True, hist=False,label='lasso',color='indigo')\n",
    "sns.distplot(y_ridge_predict,rug=True, hist=False,label='ridge',color='blue')\n",
    "sns.distplot(y_dtree_predict,rug=True, hist=False,label='dtree',color='green')\n",
    "sns.distplot(y_rforest_predict,rug=True, hist=False,label='rforest',color='yellow')\n",
    "sns.distplot(y_xgboost_predict,rug=True, hist=False,label='xgboost',color='orange')\n",
    "sns.distplot(y_nn_predict,rug=True, hist=False,label='nn',color='red')\n",
    "sns.distplot(y_test,rug=True, hist=False,label='actual',color='brown')\n",
    "\n",
    "\n",
    "ax2 = plt.axes([0.5, 0.5, .4, .4], facecolor='white')\n",
    "sns.distplot(y_linear_predict, ax=ax2,rug=True, hist=False,label='linear',color='violet')\n",
    "sns.distplot(y_lasso_predict, ax=ax2,rug=True, hist=False,label='lasso',color='indigo')\n",
    "sns.distplot(y_ridge_predict, ax=ax2,rug=True, hist=False,label='ridge',color='blue')\n",
    "sns.distplot(y_dtree_predict, ax=ax2,rug=True, hist=False,label='dtree',color='green')\n",
    "sns.distplot(y_rforest_predict, ax=ax2,rug=True, hist=False,label='rforest',color='yellow')\n",
    "sns.distplot(y_xgboost_predict, ax=ax2,rug=True, hist=False,label='xgboost',color='orange')\n",
    "sns.distplot(y_nn_predict, ax=ax2,rug=True, hist=False,label='nn',color='red')\n",
    "sns.distplot(y_test, ax=ax2,rug=True, hist=False,label='actual',color='brown')\n",
    "\n",
    "ax2.set_title('zoom')\n",
    "ax2.set_xlim([0,.1])\n",
    "\n",
    "plt.legend()\n",
    "plt.show()"
   ]
  },
  {
   "cell_type": "markdown",
   "metadata": {},
   "source": []
  }
 ],
 "metadata": {
  "kernelspec": {
   "display_name": "Python 3",
   "language": "python",
   "name": "python3"
  },
  "language_info": {
   "codemirror_mode": {
    "name": "ipython",
    "version": 3
   },
   "file_extension": ".py",
   "mimetype": "text/x-python",
   "name": "python",
   "nbconvert_exporter": "python",
   "pygments_lexer": "ipython3",
   "version": "3.7.7"
  }
 },
 "nbformat": 4,
 "nbformat_minor": 4
}
